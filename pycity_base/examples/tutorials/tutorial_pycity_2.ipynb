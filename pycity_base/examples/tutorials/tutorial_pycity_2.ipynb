{
 "cells": [
  {
   "cell_type": "markdown",
   "metadata": {},
   "source": [
    "### Part 3: City district object\n",
    "\n",
    "The city district object of pycity is an inheritance of the uesgraph object of uesgraphs package, which itself is an inheritance of networkx.Graph.\n",
    "\n",
    "If you are not familiar with networkx.Graph or uesgraph, please go through the uesgraphs tutorial first. \n",
    "You can access it within the uesgraphs package, which is available under:\n",
    "[UESGraphs](https://github.com/RWTH-EBC/uesgraphs)\n",
    "\n",
    "You can install it locally via pip. Open a console and type:\n",
    "'pip install -e your_path_to_uesgraphs' (with your local path to uesgraphs package)\n",
    "\n",
    "If you have not installed it, yes, please do so now, because you are going to need it to execute the following lines."
   ]
  },
  {
   "cell_type": "code",
   "execution_count": 31,
   "metadata": {
    "collapsed": false
   },
   "outputs": [
    {
     "name": "stdout",
     "output_type": "stream",
     "text": [
      "<pycity_base.classes.Environment.Environment object at 0x000000000BF7C5C0>\n"
     ]
    }
   ],
   "source": [
    "#  Setting up environment\n",
    "\n",
    "import pycity_base.classes.Timer as Timer\n",
    "import pycity_base.classes.Weather as Weather\n",
    "import pycity_base.classes.Prices as Prices\n",
    "import pycity_base.classes.Environment as Env\n",
    "\n",
    "#  Timestep in seconds\n",
    "timestep = 3600\n",
    "\n",
    "#  Total number of timesteps\n",
    "timesteps_total = 365 * 24 * 3600 / timestep\n",
    "\n",
    "#   Generate timer object for environment\n",
    "timer = Timer.Timer(timeDiscretization=timestep, timestepsTotal=timesteps_total, \n",
    "                    timestepsUsedHorizon=timesteps_total, timestepsHorizon=timesteps_total)\n",
    "#  Timer object holds timestep, number of timesteps as well as\n",
    "#  forecast horizon\n",
    "\n",
    "#  Generate weather object\n",
    "weather = Weather.Weather(timer)\n",
    "#  Weather object holds weather data, such as outdoor temperatures,\n",
    "#  direct and diffuse radiation\n",
    "#  Default TRY value is TRY2010_05_Jahr.dat\n",
    "#  (Test reference year 2010 for region 5 in Germany)\n",
    "\n",
    "#  Generate price object\n",
    "price = Prices.Prices()\n",
    "#  Holding energy prices and subsidies\n",
    "\n",
    "#  Generate environment object\n",
    "environment = Env.Environment(timer=timer, weather=weather, prices=price)\n",
    "\n",
    "print(environment)"
   ]
  },
  {
   "cell_type": "code",
   "execution_count": 32,
   "metadata": {
    "collapsed": false
   },
   "outputs": [
    {
     "name": "stdout",
     "output_type": "stream",
     "text": [
      "<uesgraphs.district object>\n"
     ]
    }
   ],
   "source": [
    "import pycity_base.classes.CityDistrict as CityDistrict\n",
    "\n",
    "#  Generate city district object\n",
    "city_district = CityDistrict.CityDistrict(environment)\n",
    "#  You can generate a CityDistrict object without handing over the environment. This is done to enable some \n",
    "#  networkx functions for the citydistrict object. However, you should add the environment either way,\n",
    "#  because you will not be able to work with your district later on, if the environment pointer is missing!\n",
    "#  Thus, we recommmend to add the environment pointer directly!\n",
    "\n",
    "print(city_district)"
   ]
  },
  {
   "cell_type": "markdown",
   "metadata": {},
   "source": [
    "Now we will generate 3 single family buildings with loads and add them to the city district object"
   ]
  },
  {
   "cell_type": "code",
   "execution_count": 33,
   "metadata": {
    "collapsed": false
   },
   "outputs": [
    {
     "name": "stdout",
     "output_type": "stream",
     "text": [
      "Number of building entities:\n",
      "3\n"
     ]
    }
   ],
   "source": [
    "import random\n",
    "import sympy.geometry.point as point\n",
    "\n",
    "import pycity_base.classes.demand.DomesticHotWater as DomesticHotWater\n",
    "import pycity_base.classes.demand.ElectricalDemand as ElectricalDemand\n",
    "import pycity_base.classes.demand.SpaceHeating as SpaceHeating\n",
    "\n",
    "import pycity_base.classes.demand.Apartment as Apartment\n",
    "import pycity_base.classes.Building as Building\n",
    "\n",
    "\n",
    "#  Loop to generate building objects\n",
    "for i in range(3):\n",
    "    \n",
    "    #  Generate space heating object\n",
    "    heat_demand = SpaceHeating.SpaceHeating(environment,\n",
    "                                            method=1,  # Standard load profile\n",
    "                                            livingArea=150,\n",
    "                                            specificDemand=100)\n",
    "\n",
    "    #  Generate electrical demand object\n",
    "    el_demand = ElectricalDemand.ElectricalDemand(environment,\n",
    "                                                  method=1,  # Standard load profile\n",
    "                                                  annualDemand=3000)\n",
    "\n",
    "    #  Generate domestic hot water demand object\n",
    "    dhw_annex42 = DomesticHotWater.DomesticHotWater(environment,\n",
    "                                                    tFlow=60,\n",
    "                                                    thermal=True,\n",
    "                                                    method=1,  # Annex 42\n",
    "                                                    dailyConsumption=70,\n",
    "                                                    supplyTemperature=25)\n",
    "    \n",
    "    #  Generate apartment and add load objects\n",
    "    apartment = Apartment.Apartment(environment)\n",
    "    apartment.addEntity(heat_demand)\n",
    "    apartment.addMultipleEntities([el_demand, dhw_annex42])\n",
    "    \n",
    "    #  Generate building and add apartment\n",
    "    building = Building.Building(environment)\n",
    "    building.addEntity(entity=apartment)\n",
    "    \n",
    "    #  Generate sympy point positions (with random coordinates)\n",
    "    position = point.Point(random.randint(0, 100), random.randint(0, 100))\n",
    "    \n",
    "    #  Add buildings to city district\n",
    "    city_district.addEntity(entity=building, position=position)\n",
    "\n",
    "print('Number of building entities:')\n",
    "print(city_district.get_nb_of_building_entities())"
   ]
  },
  {
   "cell_type": "markdown",
   "metadata": {},
   "source": [
    "You can also add pv- or wind farms to the city district:"
   ]
  },
  {
   "cell_type": "code",
   "execution_count": 34,
   "metadata": {
    "collapsed": false
   },
   "outputs": [
    {
     "name": "stdout",
     "output_type": "stream",
     "text": [
      "Number of PV farms:\n",
      "1\n"
     ]
    }
   ],
   "source": [
    "import pycity_base.classes.supply.PV as PV\n",
    "\n",
    "#  Generate PV field within city district\n",
    "pv = PV.PV(environment, 20, 0.15)\n",
    "\n",
    "#  Generate sympy point positions\n",
    "position_1 = point.Point(0, 0)\n",
    "\n",
    "#  Add PV fields to city district\n",
    "city_district.addEntity(entity=pv, position=position_1)\n",
    "\n",
    "print('Number of PV farms:')\n",
    "print(city_district.get_nb_of_entities(entity_name='pv'))"
   ]
  },
  {
   "cell_type": "markdown",
   "metadata": {},
   "source": [
    "CAUTION: If you add pv- or windfarms to the city district, the number of buildings is not the same as tne length of nodelist_building. The reason is, that pv- and windfarms are also handled as building nodes within uesgraph. If you deal with building nodes, you should also check the _kind of entity within the node!"
   ]
  },
  {
   "cell_type": "code",
   "execution_count": 35,
   "metadata": {
    "collapsed": false
   },
   "outputs": [
    {
     "ename": "AssertionError",
     "evalue": "Be aware, that pv- and windfarms are also handled as building nodes in uesgraph! ",
     "output_type": "error",
     "traceback": [
      "\u001b[1;31m---------------------------------------------------------------------------\u001b[0m",
      "\u001b[1;31mAssertionError\u001b[0m                            Traceback (most recent call last)",
      "\u001b[1;32m<ipython-input-35-9a2eea42be86>\u001b[0m in \u001b[0;36m<module>\u001b[1;34m()\u001b[0m\n\u001b[0;32m      1\u001b[0m assert len(city_district.nodelist_building) == city_district.get_nb_of_building_entities(), ('Be aware, ' + \n\u001b[1;32m----> 2\u001b[1;33m                                                 'that pv- and windfarms are also handled as building nodes in uesgraph! ')\n\u001b[0m",
      "\u001b[1;31mAssertionError\u001b[0m: Be aware, that pv- and windfarms are also handled as building nodes in uesgraph! "
     ]
    }
   ],
   "source": [
    "assert len(city_district.nodelist_building) == city_district.get_nb_of_building_entities(), ('Be aware, ' + \n",
    "                                                'that pv- and windfarms are also handled as building nodes in uesgraph! ')"
   ]
  },
  {
   "cell_type": "code",
   "execution_count": 36,
   "metadata": {
    "collapsed": false
   },
   "outputs": [
    {
     "name": "stdout",
     "output_type": "stream",
     "text": [
      "Node information:\n",
      "[(1001, {'entity': <pycity_base.classes.Building.Building object at 0x000000000C16A6D8>, 'name': 1001, 'is_supply_electricity': False, 'is_supply_gas': False, 'is_supply_heating': False, 'position': Point(55, 10), 'node_type': 'building', 'is_supply_cooling': False, 'is_supply_other': False}), (1002, {'entity': <pycity_base.classes.Building.Building object at 0x000000000C16A828>, 'name': 1002, 'is_supply_electricity': False, 'is_supply_gas': False, 'is_supply_heating': False, 'position': Point(26, 52), 'node_type': 'building', 'is_supply_cooling': False, 'is_supply_other': False}), (1003, {'entity': <pycity_base.classes.Building.Building object at 0x000000000C16A860>, 'name': 1003, 'is_supply_electricity': False, 'is_supply_gas': False, 'is_supply_heating': False, 'position': Point(8, 95), 'node_type': 'building', 'is_supply_cooling': False, 'is_supply_other': False}), (1004, {'entity': <pycity_base.classes.supply.PV.PV object at 0x000000000BBAB358>, 'name': 1004, 'is_supply_electricity': True, 'is_supply_gas': False, 'is_supply_heating': False, 'position': Point(0, 0), 'node_type': 'building', 'is_supply_cooling': False, 'is_supply_other': False})]\n",
      "\n",
      "Node numbers only:\n",
      "[1001, 1002, 1003, 1004]\n"
     ]
    }
   ],
   "source": [
    "#  Get complete node information of city district (possible, because city district is a graph)\n",
    "\n",
    "print('Node information:')\n",
    "print(city_district.nodes(data=True))\n",
    "print()\n",
    "\n",
    "print('Node numbers only:')\n",
    "print(city_district.nodes())"
   ]
  },
  {
   "cell_type": "markdown",
   "metadata": {
    "collapsed": true
   },
   "source": [
    "CityDistrict holds further methods. Some are shown below:"
   ]
  },
  {
   "cell_type": "code",
   "execution_count": 37,
   "metadata": {
    "collapsed": false
   },
   "outputs": [
    {
     "name": "stdout",
     "output_type": "stream",
     "text": [
      "Get number of building objects:\n",
      "3\n",
      "\n",
      "Get list of nodes with building objects:\n",
      "[1001, 1002, 1003]\n"
     ]
    }
   ],
   "source": [
    "print('Get number of building objects:')\n",
    "print(city_district.get_nb_of_building_entities())\n",
    "print()\n",
    "\n",
    "print('Get list of nodes with building objects:')\n",
    "print(city_district.get_list_build_entity_node_ids())"
   ]
  },
  {
   "cell_type": "markdown",
   "metadata": {},
   "source": [
    "It is also possible to extract aggregated load curves of all building objects"
   ]
  },
  {
   "cell_type": "code",
   "execution_count": 39,
   "metadata": {
    "collapsed": false
   },
   "outputs": [
    {
     "ename": "ValueError",
     "evalue": "operands could not be broadcast together with shapes (876,) (8760,) (876,) ",
     "output_type": "error",
     "traceback": [
      "\u001b[1;31m---------------------------------------------------------------------------\u001b[0m",
      "\u001b[1;31mValueError\u001b[0m                                Traceback (most recent call last)",
      "\u001b[1;32m<ipython-input-39-7d99be923908>\u001b[0m in \u001b[0;36m<module>\u001b[1;34m()\u001b[0m\n\u001b[1;32m----> 1\u001b[1;33m \u001b[0maggr_load_curve\u001b[0m \u001b[1;33m=\u001b[0m \u001b[0mcity_district\u001b[0m\u001b[1;33m.\u001b[0m\u001b[0mget_aggr_space_h_power_curve\u001b[0m\u001b[1;33m(\u001b[0m\u001b[1;33m)\u001b[0m\u001b[1;33m\u001b[0m\u001b[0m\n\u001b[0m\u001b[0;32m      2\u001b[0m \u001b[1;33m\u001b[0m\u001b[0m\n\u001b[0;32m      3\u001b[0m \u001b[0mprint\u001b[0m\u001b[1;33m(\u001b[0m\u001b[0maggr_load_curve\u001b[0m\u001b[1;33m)\u001b[0m\u001b[1;33m\u001b[0m\u001b[0m\n",
      "\u001b[1;32md:\\arbeitsordner_lokal\\pycharm_workspace\\pycity\\pycity\\classes\\CityDistrict.py\u001b[0m in \u001b[0;36mget_aggr_space_h_power_curve\u001b[1;34m(self, current_values)\u001b[0m\n\u001b[0;32m    376\u001b[0m                             get_space_heating_power_curve(\n\u001b[0;32m    377\u001b[0m                             current_values=current_values)\n\u001b[1;32m--> 378\u001b[1;33m                         \u001b[0magg_th_p_curve\u001b[0m \u001b[1;33m+=\u001b[0m \u001b[0mth_power_curve\u001b[0m\u001b[1;33m\u001b[0m\u001b[0m\n\u001b[0m\u001b[0;32m    379\u001b[0m \u001b[1;33m\u001b[0m\u001b[0m\n\u001b[0;32m    380\u001b[0m         \u001b[1;32mreturn\u001b[0m \u001b[0magg_th_p_curve\u001b[0m\u001b[1;33m\u001b[0m\u001b[0m\n",
      "\u001b[1;31mValueError\u001b[0m: operands could not be broadcast together with shapes (876,) (8760,) (876,) "
     ]
    }
   ],
   "source": [
    "aggr_load_curve = city_district.get_aggr_space_h_power_curve()\n",
    "\n",
    "print(aggr_load_curve)"
   ]
  },
  {
   "cell_type": "code",
   "execution_count": null,
   "metadata": {
    "collapsed": true
   },
   "outputs": [],
   "source": []
  }
 ],
 "metadata": {
  "kernelspec": {
   "display_name": "Python 3",
   "language": "python",
   "name": "python3"
  },
  "language_info": {
   "codemirror_mode": {
    "name": "ipython",
    "version": 3
   },
   "file_extension": ".py",
   "mimetype": "text/x-python",
   "name": "python",
   "nbconvert_exporter": "python",
   "pygments_lexer": "ipython3",
   "version": "3.4.4"
  }
 },
 "nbformat": 4,
 "nbformat_minor": 0
}
