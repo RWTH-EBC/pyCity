{
 "cells": [
  {
   "cell_type": "markdown",
   "metadata": {},
   "source": [
    "### Part 3: City district object\n",
    "\n",
    "The city district object of pycity is an inheritance of the uesgraph object of uesgraphs package, which itself is an inheritance of networkx.Graph.\n",
    "\n",
    "If you are not familiar with networkx.Graph or uesgraph, please go through the uesgraphs tutorial first. \n",
    "You can access it within the uesgraphs package, which is available under:\n",
    "[UESGraphs](https://github.com/RWTH-EBC/uesgraphs)\n",
    "\n",
    "You can install it locally via pip. Open a console and type:\n",
    "'pip install -e your_path_to_uesgraphs' (with your local path to uesgraphs package)\n",
    "\n",
    "If you have not installed it, please do so now, because you are going to need it to execute the following lines."
   ]
  },
  {
   "cell_type": "code",
   "execution_count": 2,
   "metadata": {
    "collapsed": false
   },
   "outputs": [
    {
     "name": "stdout",
     "output_type": "stream",
     "text": [
      "<pycity_base.classes.environment.Environment object at 0x00000220AC8F7CF8>\n"
     ]
    }
   ],
   "source": [
    "import pycity_base.classes.timer as Timer\n",
    "import pycity_base.classes.weather as Weather\n",
    "import pycity_base.classes.prices as Prices\n",
    "import pycity_base.classes.environment as Env\n",
    "\n",
    "#  Setting up environment\n",
    "#  Timestep in seconds\n",
    "timestep = 3600\n",
    "\n",
    "#  Total number of timesteps\n",
    "timesteps_total = int(365 * 24 * 3600 / timestep)\n",
    "\n",
    "#   Generate timer object for environment\n",
    "timer = Timer.Timer(time_discretization=timestep, timesteps_total=timesteps_total, \n",
    "                    timesteps_used_horizon=timesteps_total, timesteps_horizon=timesteps_total)\n",
    "#  Timer object holds timestep, number of timesteps as well as\n",
    "#  forecast horizon\n",
    "\n",
    "#  Generate weather object\n",
    "weather = Weather.Weather(timer)\n",
    "#  Weather object holds weather data, such as outdoor temperatures,\n",
    "#  direct and diffuse radiation\n",
    "#  Default TRY value is TRY2010_05_Jahr.dat\n",
    "#  (Test reference year 2010 for region 5 in Germany)\n",
    "\n",
    "#  Generate price object\n",
    "price = Prices.Prices()\n",
    "#  Holding energy prices and subsidies\n",
    "\n",
    "#  Generate environment object\n",
    "environment = Env.Environment(timer=timer, weather=weather, prices=price)\n",
    "\n",
    "print(environment)\n"
   ]
  },
  {
   "cell_type": "code",
   "execution_count": 3,
   "metadata": {
    "collapsed": false
   },
   "outputs": [
    {
     "name": "stdout",
     "output_type": "stream",
     "text": [
      "<uesgraphs.UESGraph object>\n"
     ]
    }
   ],
   "source": [
    "import pycity_base.classes.city_district as CityDistrict\n",
    "\n",
    "#  Generate city district object\n",
    "city_district = CityDistrict.CityDistrict(environment)\n",
    "#  You can generate a CityDistrict object without handing over the environment. This is done to enable some \n",
    "#  networkx functions for the citydistrict object. However, you should add the environment either way,\n",
    "#  because you will not be able to work with your district later on, if the environment pointer is missing!\n",
    "#  Thus, we recommmend to add the environment pointer directly!\n",
    "\n",
    "print(city_district)"
   ]
  },
  {
   "cell_type": "markdown",
   "metadata": {},
   "source": [
    "Now we will generate 3 single family buildings with loads and add them to the city district object"
   ]
  },
  {
   "cell_type": "code",
   "execution_count": 4,
   "metadata": {
    "collapsed": false
   },
   "outputs": [
    {
     "name": "stdout",
     "output_type": "stream",
     "text": [
      "Number of building entities:\n3\n"
     ]
    }
   ],
   "source": [
    "import random\n",
    "import sympy.geometry.point as point\n",
    "\n",
    "import pycity_base.classes.demand.domestic_hot_water as DomesticHotWater\n",
    "import pycity_base.classes.demand.electrical_demand as ElectricalDemand\n",
    "import pycity_base.classes.demand.space_heating as SpaceHeating\n",
    "\n",
    "import pycity_base.classes.demand.apartment as Apartment\n",
    "import pycity_base.classes.building as Building\n",
    "\n",
    "\n",
    "#  Loop to generate building objects\n",
    "for i in range(3):\n",
    "    \n",
    "    #  Generate space heating object\n",
    "    heat_demand = SpaceHeating.SpaceHeating(environment,\n",
    "                                            method=1,  # Standard load profile\n",
    "                                            living_area=150,\n",
    "                                            specific_demand=100)\n",
    "\n",
    "    #  Generate electrical demand object\n",
    "    el_demand = ElectricalDemand.ElectricalDemand(environment,\n",
    "                                                  method=1,  # Standard load profile\n",
    "                                                  annual_demand=3000)\n",
    "\n",
    "    #  Generate domestic hot water demand object\n",
    "    dhw_annex42 = DomesticHotWater.DomesticHotWater(environment,\n",
    "                                                    t_flow=60,\n",
    "                                                    thermal=True,\n",
    "                                                    method=1,  # Annex 42\n",
    "                                                    daily_consumption=70,\n",
    "                                                    supply_temperature=25)\n",
    "    \n",
    "    #  Generate apartment and add load objects\n",
    "    apartment = Apartment.Apartment(environment)\n",
    "    apartment.addEntity(heat_demand)\n",
    "    apartment.addMultipleEntities([el_demand, dhw_annex42])\n",
    "    \n",
    "    #  Generate building and add apartment\n",
    "    building = Building.Building(environment)\n",
    "    building.addEntity(entity=apartment)\n",
    "    \n",
    "    #  Generate sympy point positions (with random coordinates)\n",
    "    position = point.Point(random.randint(0, 100), random.randint(0, 100))\n",
    "    \n",
    "    #  Add buildings to city district\n",
    "    city_district.addEntity(entity=building, position=position)\n",
    "\n",
    "print('Number of building entities:')\n",
    "print(city_district.get_nb_of_building_entities())"
   ]
  },
  {
   "cell_type": "markdown",
   "metadata": {},
   "source": [
    "You can also add pv- or wind farms to the city district:"
   ]
  },
  {
   "cell_type": "code",
   "execution_count": 6,
   "metadata": {
    "collapsed": false
   },
   "outputs": [
    {
     "name": "stdout",
     "output_type": "stream",
     "text": [
      "Number of PV farms:\n1\n"
     ]
    }
   ],
   "source": [
    "import pycity_base.classes.supply.photovoltaic as PV\n",
    "\n",
    "#  Generate PV field within city district\n",
    "pv = PV.PV(environment=environment, method=0, area=20, eta_noct=0.15)\n",
    "\n",
    "#  Generate sympy point positions\n",
    "position_1 = point.Point(0, 0)\n",
    "\n",
    "#  Add PV fields to city district\n",
    "city_district.addEntity(entity=pv, position=position_1)\n",
    "\n",
    "print('Number of PV farms:')\n",
    "print(city_district.get_nb_of_entities(entity_name='pv'))"
   ]
  },
  {
   "cell_type": "markdown",
   "metadata": {},
   "source": [
    "CAUTION: If you add pv- or windfarms to the city district, the number of buildings is not the same as tne length of nodelist_building. The reason is, that pv- and windfarms are also handled as building nodes within uesgraph. If you deal with building nodes, you should also check the _kind of entity within the node!"
   ]
  },
  {
   "cell_type": "code",
   "execution_count": 10,
   "metadata": {
    "collapsed": false
   },
   "outputs": [],
   "source": [
    "assert len(city_district.nodelist_building) == city_district.get_nb_of_building_entities()+1,\\\n",
    "    'Be aware that PV units and wind energy converters are also handled as building nodes in uesgraph!'"
   ]
  },
  {
   "cell_type": "code",
   "execution_count": 11,
   "metadata": {
    "collapsed": false
   },
   "outputs": [
    {
     "name": "stdout",
     "output_type": "stream",
     "text": [
      "Node information:\n[(1001, {'name': 1001, 'node_type': 'building', 'position': Point2D(87, 32), 'is_supply_heating': False, 'is_supply_cooling': False, 'is_supply_electricity': False, 'is_supply_gas': False, 'is_supply_other': False, 'entity': <pycity_base.classes.building.Building object at 0x00000220C02A3F60>}), (1002, {'name': 1002, 'node_type': 'building', 'position': Point2D(71, 78), 'is_supply_heating': False, 'is_supply_cooling': False, 'is_supply_electricity': False, 'is_supply_gas': False, 'is_supply_other': False, 'entity': <pycity_base.classes.building.Building object at 0x00000220BEA1B048>}), (1003, {'name': 1003, 'node_type': 'building', 'position': Point2D(38, 62), 'is_supply_heating': False, 'is_supply_cooling': False, 'is_supply_electricity': False, 'is_supply_gas': False, 'is_supply_other': False, 'entity': <pycity_base.classes.building.Building object at 0x00000220ACB92860>}), (1004, {'name': 1004, 'node_type': 'building', 'position': Point2D(0, 0), 'is_supply_heating': False, 'is_supply_cooling': False, 'is_supply_electricity': True, 'is_supply_gas': False, 'is_supply_other': False, 'entity': <pycity_base.classes.supply.photovoltaic.PV object at 0x00000220ACB927F0>})]\n\nNode numbers only:\n[1001, 1002, 1003, 1004]\n"
     ]
    }
   ],
   "source": [
    "#  Get complete node information of city district (possible, because city district is a graph)\n",
    "\n",
    "print('Node information:')\n",
    "print(city_district.nodes(data=True))\n",
    "print()\n",
    "\n",
    "print('Node numbers only:')\n",
    "print(city_district.nodes())"
   ]
  },
  {
   "cell_type": "markdown",
   "metadata": {
    "collapsed": true
   },
   "source": [
    "CityDistrict holds further methods. Some are shown below:"
   ]
  },
  {
   "cell_type": "code",
   "execution_count": 12,
   "metadata": {
    "collapsed": false
   },
   "outputs": [
    {
     "name": "stdout",
     "output_type": "stream",
     "text": [
      "Get number of building objects:\n3\n\nGet list of nodes with building objects:\n[1001, 1002, 1003]\n"
     ]
    }
   ],
   "source": [
    "print('Get number of building objects:')\n",
    "print(city_district.get_nb_of_building_entities())\n",
    "print()\n",
    "\n",
    "print('Get list of nodes with building objects:')\n",
    "print(city_district.get_list_build_entity_node_ids())"
   ]
  },
  {
   "cell_type": "markdown",
   "metadata": {},
   "source": [
    "It is also possible to extract aggregated load curves of all building objects"
   ]
  },
  {
   "cell_type": "code",
   "execution_count": 14,
   "metadata": {
    "collapsed": false
   },
   "outputs": [
    {
     "name": "stdout",
     "output_type": "stream",
     "text": [
      "[5682.09607927 5830.32467264 5978.55326602 ... 7451.04147065 5086.44155188\n 3708.50922512]\n"
     ]
    }
   ],
   "source": [
    "aggr_load_curve = city_district.get_aggr_space_heating_power_curve()\n",
    "\n",
    "print(aggr_load_curve)"
   ]
  },
  {
   "cell_type": "code",
   "execution_count": null,
   "metadata": {
    "collapsed": true
   },
   "outputs": [],
   "source": []
  }
 ],
 "metadata": {
  "kernelspec": {
   "display_name": "Python 3",
   "language": "python",
   "name": "python3"
  },
  "language_info": {
   "codemirror_mode": {
    "name": "ipython",
    "version": 3
   },
   "file_extension": ".py",
   "mimetype": "text/x-python",
   "name": "python",
   "nbconvert_exporter": "python",
   "pygments_lexer": "ipython3",
   "version": "3.4.4"
  }
 },
 "nbformat": 4,
 "nbformat_minor": 0
}
